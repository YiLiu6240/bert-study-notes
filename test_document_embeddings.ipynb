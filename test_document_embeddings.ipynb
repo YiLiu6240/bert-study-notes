{
 "cells": [
  {
   "cell_type": "code",
   "execution_count": 1,
   "metadata": {},
   "outputs": [],
   "source": [
    "import torch\n",
    "\n",
    "from flair.data import Sentence\n",
    "from flair.embeddings import (\n",
    "    DocumentPoolEmbeddings,\n",
    "    FlairEmbeddings, WordEmbeddings,\n",
    "    ELMoEmbeddings, BertEmbeddings\n",
    ")"
   ]
  },
  {
   "cell_type": "code",
   "execution_count": 2,
   "metadata": {},
   "outputs": [
    {
     "name": "stdout",
     "output_type": "stream",
     "text": [
      "2019-05-12 20:00:38,237 this function is deprecated, use smart_open.open instead\n",
      "2019-05-12 20:02:02,566 The pre-trained model you are loading is a cased model but you have not set `do_lower_case` to False. We are setting `do_lower_case=False` for you but you may want to check this behavior.\n"
     ]
    }
   ],
   "source": [
    "embeddings = DocumentPoolEmbeddings([\n",
    "    WordEmbeddings(\"glove\"),\n",
    "    FlairEmbeddings(\"news-forward\"),\n",
    "    FlairEmbeddings(\"news-backward\"),\n",
    "    FlairEmbeddings(\"pubmed-forward\"),\n",
    "    FlairEmbeddings(\"pubmed-backward\"),\n",
    "    ELMoEmbeddings(\"pubmed\"),\n",
    "    BertEmbeddings(\"bert-base-uncased\"),\n",
    "    BertEmbeddings(\"bert-large-uncased\"),\n",
    "    BertEmbeddings(\"bert-base-cased\"),\n",
    "    BertEmbeddings(\"bert-base-uncased\"),\n",
    "])"
   ]
  },
  {
   "cell_type": "code",
   "execution_count": 3,
   "metadata": {},
   "outputs": [],
   "source": [
    "query = Sentence(\"I love Berlin\")\n",
    "\n",
    "paragraph_1 = Sentence(\"Paris is an interesting city.\")\n",
    "paragraph_2 = Sentence(\"The computer is new.\")\n",
    "\n",
    "embeddings.embed([query, paragraph_1, paragraph_2])"
   ]
  },
  {
   "cell_type": "code",
   "execution_count": 4,
   "metadata": {},
   "outputs": [],
   "source": [
    "cos = torch.nn.CosineSimilarity(dim=0, eps=1e-6)"
   ]
  },
  {
   "cell_type": "code",
   "execution_count": 5,
   "metadata": {},
   "outputs": [
    {
     "name": "stdout",
     "output_type": "stream",
     "text": [
      "tensor(0.7121)\n"
     ]
    }
   ],
   "source": [
    "similartity_to_paragraph_1 = cos(query.embedding, paragraph_1.embedding)\n",
    "print(similartity_to_paragraph_1)"
   ]
  },
  {
   "cell_type": "code",
   "execution_count": 7,
   "metadata": {},
   "outputs": [
    {
     "name": "stdout",
     "output_type": "stream",
     "text": [
      "tensor(0.6668)\n"
     ]
    }
   ],
   "source": [
    "similartity_to_paragraph_2 = cos(query.embedding, paragraph_2.embedding)\n",
    "print(similartity_to_paragraph_2)"
   ]
  }
 ],
 "metadata": {
  "kernelspec": {
   "display_name": "Python 3",
   "language": "python",
   "name": "python3"
  },
  "language_info": {
   "codemirror_mode": {
    "name": "ipython",
    "version": 3
   },
   "file_extension": ".py",
   "mimetype": "text/x-python",
   "name": "python",
   "nbconvert_exporter": "python",
   "pygments_lexer": "ipython3",
   "version": "3.6.8"
  }
 },
 "nbformat": 4,
 "nbformat_minor": 2
}
