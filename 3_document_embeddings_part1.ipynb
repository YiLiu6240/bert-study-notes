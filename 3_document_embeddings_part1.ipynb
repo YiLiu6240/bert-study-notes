{
 "cells": [
  {
   "cell_type": "markdown",
   "metadata": {},
   "source": [
    "# Using flair"
   ]
  },
  {
   "cell_type": "code",
   "execution_count": 1,
   "metadata": {},
   "outputs": [],
   "source": [
    "%load_ext autoreload\n",
    "%autoreload 2"
   ]
  },
  {
   "cell_type": "code",
   "execution_count": 2,
   "metadata": {},
   "outputs": [],
   "source": [
    "import pandas as pd\n",
    "\n",
    "import torch\n",
    "\n",
    "from flair.data import Sentence\n",
    "from flair.embeddings import (\n",
    "    DocumentPoolEmbeddings,\n",
    "    FlairEmbeddings, WordEmbeddings,\n",
    "    ELMoEmbeddings, BertEmbeddings\n",
    ")"
   ]
  },
  {
   "cell_type": "markdown",
   "metadata": {},
   "source": [
    "## Example"
   ]
  },
  {
   "cell_type": "code",
   "execution_count": 4,
   "metadata": {},
   "outputs": [
    {
     "name": "stdout",
     "output_type": "stream",
     "text": [
      "2019-05-16 15:04:58,913 this function is deprecated, use smart_open.open instead\n",
      "2019-05-16 15:07:31,178 The pre-trained model you are loading is a cased model but you have not set `do_lower_case` to False. We are setting `do_lower_case=False` for you but you may want to check this behavior.\n"
     ]
    }
   ],
   "source": [
    "embeddings = DocumentPoolEmbeddings([\n",
    "    WordEmbeddings(\"glove\"),\n",
    "    FlairEmbeddings(\"news-forward\"),\n",
    "    FlairEmbeddings(\"news-backward\"),\n",
    "    FlairEmbeddings(\"pubmed-forward\"),\n",
    "    FlairEmbeddings(\"pubmed-backward\"),\n",
    "    ELMoEmbeddings(\"pubmed\"),\n",
    "    BertEmbeddings(\"bert-base-uncased\"),\n",
    "    BertEmbeddings(\"bert-large-uncased\"),\n",
    "    BertEmbeddings(\"bert-base-cased\"),\n",
    "    BertEmbeddings(\"bert-base-uncased\"),\n",
    "])"
   ]
  },
  {
   "cell_type": "code",
   "execution_count": 6,
   "metadata": {},
   "outputs": [],
   "source": [
    "query = Sentence(\"Association between RsaI and AluI polymorphism in the estrogen receptor beta gene and primary hepatocellular carcinoma.\")\n",
    "\n",
    "targets = [Sentence(target)  for target in [\n",
    "    \"Paris is an interesting city.\",\n",
    "    \"The computer is new.\",\n",
    "    \"I ate too much breakfast and now I am miserable.\",\n",
    "    \"Searching for the causal effects of body mass index in over 300 000 participants in UK Biobank, using Mendelian randomization.\",\n",
    "    \"Clustering complex cohorts\"\n",
    "]]\n",
    "\n",
    "embeddings.embed([query] + targets)"
   ]
  },
  {
   "cell_type": "code",
   "execution_count": 7,
   "metadata": {},
   "outputs": [],
   "source": [
    "cos = torch.nn.CosineSimilarity(dim=0, eps=1e-6)"
   ]
  },
  {
   "cell_type": "code",
   "execution_count": 8,
   "metadata": {},
   "outputs": [
    {
     "name": "stdout",
     "output_type": "stream",
     "text": [
      "tensor(0.5961)\n",
      "tensor(0.6206)\n",
      "tensor(0.6128)\n",
      "tensor(0.7917)\n",
      "tensor(0.6591)\n"
     ]
    }
   ],
   "source": [
    "for target in targets:\n",
    "    print(cos(query.embedding, target.embedding))"
   ]
  }
 ],
 "metadata": {
  "kernelspec": {
   "display_name": "Python 3",
   "language": "python",
   "name": "python3"
  },
  "language_info": {
   "codemirror_mode": {
    "name": "ipython",
    "version": 3
   },
   "file_extension": ".py",
   "mimetype": "text/x-python",
   "name": "python",
   "nbconvert_exporter": "python",
   "pygments_lexer": "ipython3",
   "version": "3.6.8"
  }
 },
 "nbformat": 4,
 "nbformat_minor": 2
}
